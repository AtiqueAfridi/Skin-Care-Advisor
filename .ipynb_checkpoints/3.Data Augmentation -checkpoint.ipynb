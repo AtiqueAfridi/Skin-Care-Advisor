{
 "cells": [
  {
   "cell_type": "markdown",
   "id": "38782461",
   "metadata": {},
   "source": [
    "## Determine the Number of Augmentations Needed"
   ]
  },
  {
   "cell_type": "code",
   "execution_count": 1,
   "id": "bf3400b5",
   "metadata": {},
   "outputs": [
    {
     "name": "stdout",
     "output_type": "stream",
     "text": [
      "rosacea       44\n",
      "acne          99\n",
      "eczema        99\n",
      "carcinoma    241\n",
      "keratosis    241\n",
      "milia        277\n",
      "Name: label, dtype: int64\n"
     ]
    }
   ],
   "source": [
    "import pandas as pd\n",
    "\n",
    "# Load the dataset\n",
    "df = pd.read_csv('./skin_condition_labels.csv')  # Replace with your CSV file\n",
    "\n",
    "# Calculate the number of images needed for each class to reach 400\n",
    "target_count = 400\n",
    "class_counts = df['label'].value_counts()\n",
    "augmentation_needed = target_count - class_counts\n",
    "augmentation_needed = augmentation_needed[augmentation_needed > 0]  # Keep only positive values\n",
    "\n",
    "print(augmentation_needed)\n"
   ]
  },
  {
   "cell_type": "markdown",
   "id": "314cfddd",
   "metadata": {},
   "source": [
    "## Perform Augmentation"
   ]
  },
  {
   "cell_type": "code",
   "execution_count": 5,
   "id": "e7147e13",
   "metadata": {},
   "outputs": [],
   "source": [
    "# !pip install imgaug"
   ]
  },
  {
   "cell_type": "code",
   "execution_count": null,
   "id": "a1411dde",
   "metadata": {},
   "outputs": [],
   "source": []
  },
  {
   "cell_type": "code",
   "execution_count": null,
   "id": "2de6f87d",
   "metadata": {},
   "outputs": [],
   "source": []
  }
 ],
 "metadata": {
  "kernelspec": {
   "display_name": "Python 3 (ipykernel)",
   "language": "python",
   "name": "python3"
  },
  "language_info": {
   "codemirror_mode": {
    "name": "ipython",
    "version": 3
   },
   "file_extension": ".py",
   "mimetype": "text/x-python",
   "name": "python",
   "nbconvert_exporter": "python",
   "pygments_lexer": "ipython3",
   "version": "3.9.7"
  }
 },
 "nbformat": 4,
 "nbformat_minor": 5
}
