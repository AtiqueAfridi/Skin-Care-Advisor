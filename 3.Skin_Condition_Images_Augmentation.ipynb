{
  "nbformat": 4,
  "nbformat_minor": 0,
  "metadata": {
    "colab": {
      "provenance": []
    },
    "kernelspec": {
      "name": "python3",
      "display_name": "Python 3"
    },
    "language_info": {
      "name": "python"
    }
  },
  "cells": [
    {
      "cell_type": "code",
      "execution_count": null,
      "metadata": {
        "id": "UnbKpyWP-Ulq"
      },
      "outputs": [],
      "source": [
        "import os\n",
        "import cv2\n",
        "import random\n",
        "import numpy as np\n",
        "from zipfile import ZipFile\n",
        "from PIL import UnidentifiedImageError"
      ]
    },
    {
      "cell_type": "code",
      "source": [
        "file_name = \"/content/Skin_ Conditions.zip\"\n",
        "\n",
        "with ZipFile(file_name, 'r') as zip:\n",
        "  zip.extractall()\n",
        "  print('Done')"
      ],
      "metadata": {
        "id": "fWJMeiOtDsbq",
        "colab": {
          "base_uri": "https://localhost:8080/"
        },
        "outputId": "d617e847-df90-42b4-e7a9-1a793cca7fef"
      },
      "execution_count": null,
      "outputs": [
        {
          "output_type": "stream",
          "name": "stdout",
          "text": [
            "Done\n"
          ]
        }
      ]
    },
    {
      "cell_type": "code",
      "source": [
        "base_path = '/content/Skin_ Conditions'\n",
        "categories = ['Acne', 'Carcinoma', 'Eczema', 'Keratosis', 'Milia', 'Rosacea']\n",
        "target_count = 400"
      ],
      "metadata": {
        "id": "mmN4W-4CDORO"
      },
      "execution_count": null,
      "outputs": []
    },
    {
      "cell_type": "code",
      "source": [
        "def rotate_image(image):\n",
        "    angle = random.randint(-30, 30)\n",
        "    h, w = image.shape[:2]\n",
        "    M = cv2.getRotationMatrix2D((w / 2, h / 2), angle, 1)\n",
        "    return cv2.warpAffine(image, M, (w, h))"
      ],
      "metadata": {
        "id": "H7_PvzBULq4q"
      },
      "execution_count": null,
      "outputs": []
    },
    {
      "cell_type": "code",
      "source": [
        "def flip_image(image):\n",
        "    return cv2.flip(image, random.choice([-1, 0, 1]))"
      ],
      "metadata": {
        "id": "ljxsl4gbLsYC"
      },
      "execution_count": null,
      "outputs": []
    },
    {
      "cell_type": "code",
      "source": [
        "def scale_image(image):\n",
        "    scale = random.uniform(0.7, 1.3)\n",
        "    h, w = image.shape[:2]\n",
        "    return cv2.resize(image, (int(w * scale), int(h * scale)))"
      ],
      "metadata": {
        "id": "M_FuxS_bMp3T"
      },
      "execution_count": null,
      "outputs": []
    },
    {
      "cell_type": "code",
      "source": [
        "def crop_image(image):\n",
        "    h, w = image.shape[:2]\n",
        "    crop_size = random.uniform(0.7, 1.0)\n",
        "    x = random.randint(0, int(w * (1 - crop_size)))\n",
        "    y = random.randint(0, int(h * (1 - crop_size)))\n",
        "    return image[y:int(y + h * crop_size), x:int(x + w * crop_size)]"
      ],
      "metadata": {
        "id": "8nJspTs89Ves"
      },
      "execution_count": null,
      "outputs": []
    },
    {
      "cell_type": "code",
      "source": [
        "def augment_image(image):\n",
        "    augmentations = [rotate_image, flip_image, scale_image, crop_image]\n",
        "    augmentation = random.choice(augmentations)\n",
        "    return augmentation(image)"
      ],
      "metadata": {
        "id": "PAq_zyXq9XXZ"
      },
      "execution_count": null,
      "outputs": []
    },
    {
      "cell_type": "code",
      "source": [
        "augmented_path = 'Augmented_Skin_Conditions'\n",
        "\n",
        "os.makedirs(augmented_path, exist_ok=True)\n",
        "for category in categories:\n",
        "    os.makedirs(os.path.join(augmented_path, category), exist_ok=True)"
      ],
      "metadata": {
        "id": "vwaJZDj19ZYy"
      },
      "execution_count": null,
      "outputs": []
    },
    {
      "cell_type": "code",
      "source": [
        "for category in categories:\n",
        "    images_path = os.path.join(base_path, category)\n",
        "    images = os.listdir(images_path)\n",
        "    num_images = len(images)\n",
        "    image_counter = 1\n",
        "\n",
        "    def get_unique_name(category, image_counter, ext):\n",
        "        while True:\n",
        "            filename = f\"{category}_{image_counter}{ext}\"\n",
        "            filepath = os.path.join(augmented_path, category, filename)\n",
        "            if not os.path.exists(filepath):\n",
        "                return filename\n",
        "            image_counter += 1\n",
        "\n",
        "    if num_images >= target_count:\n",
        "        for img in images[:target_count]:\n",
        "            try:\n",
        "                image = cv2.imread(os.path.join(images_path, img))\n",
        "                if image is None:\n",
        "                    continue\n",
        "                ext = os.path.splitext(img)[1]\n",
        "                augmented_image_name = get_unique_name(category, image_counter, ext)\n",
        "                augmented_image_path = os.path.join(augmented_path, category, augmented_image_name)\n",
        "                cv2.imwrite(augmented_image_path, image)\n",
        "                image_counter += 1\n",
        "            except Exception as e:\n",
        "                print(f\"Error processing image {img}: {e}\")\n",
        "    else:\n",
        "        for img in images:\n",
        "            try:\n",
        "                image = cv2.imread(os.path.join(images_path, img))\n",
        "                if image is None:\n",
        "                    continue\n",
        "                ext = os.path.splitext(img)[1]\n",
        "                augmented_image_name = get_unique_name(category, image_counter, ext)\n",
        "                augmented_image_path = os.path.join(augmented_path, category, augmented_image_name)\n",
        "                cv2.imwrite(augmented_image_path, image)\n",
        "                image_counter += 1\n",
        "            except Exception as e:\n",
        "                print(f\"Error processing image {img}: {e}\")\n",
        "\n",
        "        i = 0\n",
        "        while num_images < target_count:\n",
        "            try:\n",
        "                image_file = images[i % len(images)]\n",
        "                image_path = os.path.join(images_path, image_file)\n",
        "                image = cv2.imread(image_path)\n",
        "                if image is None:\n",
        "                    i += 1\n",
        "                    continue\n",
        "\n",
        "                augmented_image = augment_image(image)\n",
        "                ext = os.path.splitext(image_file)[1]\n",
        "                augmented_image_name = get_unique_name(category, image_counter, ext)\n",
        "                augmented_image_path = os.path.join(augmented_path, category, augmented_image_name)\n",
        "\n",
        "                cv2.imwrite(augmented_image_path, augmented_image)\n",
        "                num_images += 1\n",
        "                image_counter += 1\n",
        "                i += 1\n",
        "            except Exception as e:\n",
        "                print(f\"Error processing image {image_file}: {e}\")\n",
        "                i += 1\n",
        "\n",
        "print(\"Augmentation complete!\")"
      ],
      "metadata": {
        "colab": {
          "base_uri": "https://localhost:8080/"
        },
        "id": "g7qXB_2G9fGr",
        "outputId": "5c1e5462-6da3-49d0-f8e5-dbb6bc972184"
      },
      "execution_count": null,
      "outputs": [
        {
          "output_type": "stream",
          "name": "stdout",
          "text": [
            "Augmentation complete!\n"
          ]
        }
      ]
    },
    {
      "cell_type": "code",
      "source": [
        "import shutil\n",
        "from google.colab import files\n",
        "\n",
        "folder_to_zip = '/content/Augmented_Skin_Conditions'\n",
        "output_filename = '/content/Skin_Conditions_Augmented.zip'\n",
        "\n",
        "shutil.make_archive(output_filename.replace('.zip', ''), 'zip', folder_to_zip)\n",
        "\n",
        "files.download(output_filename)"
      ],
      "metadata": {
        "id": "HnVM5P-TNrUR",
        "colab": {
          "base_uri": "https://localhost:8080/",
          "height": 17
        },
        "outputId": "8cf593a2-27ac-4c42-c0a8-823d729286d6"
      },
      "execution_count": null,
      "outputs": [
        {
          "output_type": "display_data",
          "data": {
            "text/plain": [
              "<IPython.core.display.Javascript object>"
            ],
            "application/javascript": [
              "\n",
              "    async function download(id, filename, size) {\n",
              "      if (!google.colab.kernel.accessAllowed) {\n",
              "        return;\n",
              "      }\n",
              "      const div = document.createElement('div');\n",
              "      const label = document.createElement('label');\n",
              "      label.textContent = `Downloading \"${filename}\": `;\n",
              "      div.appendChild(label);\n",
              "      const progress = document.createElement('progress');\n",
              "      progress.max = size;\n",
              "      div.appendChild(progress);\n",
              "      document.body.appendChild(div);\n",
              "\n",
              "      const buffers = [];\n",
              "      let downloaded = 0;\n",
              "\n",
              "      const channel = await google.colab.kernel.comms.open(id);\n",
              "      // Send a message to notify the kernel that we're ready.\n",
              "      channel.send({})\n",
              "\n",
              "      for await (const message of channel.messages) {\n",
              "        // Send a message to notify the kernel that we're ready.\n",
              "        channel.send({})\n",
              "        if (message.buffers) {\n",
              "          for (const buffer of message.buffers) {\n",
              "            buffers.push(buffer);\n",
              "            downloaded += buffer.byteLength;\n",
              "            progress.value = downloaded;\n",
              "          }\n",
              "        }\n",
              "      }\n",
              "      const blob = new Blob(buffers, {type: 'application/binary'});\n",
              "      const a = document.createElement('a');\n",
              "      a.href = window.URL.createObjectURL(blob);\n",
              "      a.download = filename;\n",
              "      div.appendChild(a);\n",
              "      a.click();\n",
              "      div.remove();\n",
              "    }\n",
              "  "
            ]
          },
          "metadata": {}
        },
        {
          "output_type": "display_data",
          "data": {
            "text/plain": [
              "<IPython.core.display.Javascript object>"
            ],
            "application/javascript": [
              "download(\"download_67f296ed-b929-4a8a-ae40-5e193ee73c59\", \"Skin_Conditions_Augmented.zip\", 285761695)"
            ]
          },
          "metadata": {}
        }
      ]
    }
  ]
}